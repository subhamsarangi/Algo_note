{
 "cells": [
  {
   "cell_type": "code",
   "execution_count": 1,
   "metadata": {
    "collapsed": true
   },
   "outputs": [],
   "source": [
    "from numpy.random import *"
   ]
  },
  {
   "cell_type": "code",
   "execution_count": 2,
   "metadata": {
    "collapsed": true
   },
   "outputs": [],
   "source": [
    "def partition(seq):\n",
    "    pi,seq = seq[0],seq[1:]\n",
    "    lo = [x for x in seq if x <= pi]\n",
    "    hi = [x for x in seq if x > pi]\n",
    "    return lo, pi, hi"
   ]
  },
  {
   "cell_type": "code",
   "execution_count": 3,
   "metadata": {
    "collapsed": true
   },
   "outputs": [],
   "source": [
    "def quicksort(seq):\n",
    "    if len(seq) < 2:\n",
    "        return seq\n",
    "    low, pivot, high = partition(seq)\n",
    "    return quicksort(low) + [pivot] + quicksort(high)"
   ]
  },
  {
   "cell_type": "code",
   "execution_count": 4,
   "metadata": {},
   "outputs": [
    {
     "name": "stdout",
     "output_type": "stream",
     "text": [
      "[17 69  3 12 57 89  2 28 80 37 43 18  1 68 56 60 44 68 79 59 96 76 62 74 41\n",
      " 31 61 30 89  5 33 61 61 34 12 96 31 32 32 13 74 69 36 42 88  0 94  0  1 64]\n"
     ]
    }
   ],
   "source": [
    "array = randint(0,100,50)\n",
    "print(array)"
   ]
  },
  {
   "cell_type": "code",
   "execution_count": 5,
   "metadata": {},
   "outputs": [
    {
     "name": "stdout",
     "output_type": "stream",
     "text": [
      "[0, 0, 1, 1, 2, 3, 5, 12, 12, 13, 17, 18, 28, 30, 31, 31, 32, 32, 33, 34, 36, 37, 41, 42, 43, 44, 56, 57, 59, 60, 61, 61, 61, 62, 64, 68, 68, 69, 69, 74, 74, 76, 79, 80, 88, 89, 89, 94, 96, 96]\n"
     ]
    }
   ],
   "source": [
    "print(quicksort(array))"
   ]
  },
  {
   "cell_type": "code",
   "execution_count": null,
   "metadata": {
    "collapsed": true
   },
   "outputs": [],
   "source": []
  }
 ],
 "metadata": {
  "kernelspec": {
   "display_name": "Python 3",
   "language": "python",
   "name": "python3"
  },
  "language_info": {
   "codemirror_mode": {
    "name": "ipython",
    "version": 3
   },
   "file_extension": ".py",
   "mimetype": "text/x-python",
   "name": "python",
   "nbconvert_exporter": "python",
   "pygments_lexer": "ipython3",
   "version": "3.5.2"
  }
 },
 "nbformat": 4,
 "nbformat_minor": 2
}
