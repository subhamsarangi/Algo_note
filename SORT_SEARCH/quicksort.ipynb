{
 "cells": [
  {
   "cell_type": "code",
   "execution_count": 1,
   "metadata": {},
   "outputs": [],
   "source": [
    "from numpy.random import *"
   ]
  },
  {
   "cell_type": "code",
   "execution_count": 2,
   "metadata": {},
   "outputs": [],
   "source": [
    "def partition(seq):\n",
    "    pi,seq = seq[0],seq[1:]\n",
    "    lo = [x for x in seq if x <= pi]\n",
    "    hi = [x for x in seq if x > pi]\n",
    "    return lo, pi, hi"
   ]
  },
  {
   "cell_type": "code",
   "execution_count": 3,
   "metadata": {},
   "outputs": [],
   "source": [
    "def quicksort(seq):\n",
    "    if len(seq) < 2:\n",
    "        return seq\n",
    "    low, pivot, high = partition(seq)\n",
    "    return quicksort(low) + [pivot] + quicksort(high)"
   ]
  },
  {
   "cell_type": "code",
   "execution_count": 4,
   "metadata": {},
   "outputs": [
    {
     "name": "stdout",
     "output_type": "stream",
     "text": [
      "[54 11 30 56 62 98 37 41 51 57 81 68 55 89 23 52  0 16 68 59 15 43 79 18 70\n",
      " 80 83 52 22 88  6  3 61 62 82 46 59 50 29 92 75 84 78 96 73 21 87 42  3 61]\n"
     ]
    }
   ],
   "source": [
    "array = randint(0,100,50)\n",
    "print(array)"
   ]
  },
  {
   "cell_type": "code",
   "execution_count": 5,
   "metadata": {},
   "outputs": [
    {
     "name": "stdout",
     "output_type": "stream",
     "text": [
      "[0, 3, 3, 6, 11, 15, 16, 18, 21, 22, 23, 29, 30, 37, 41, 42, 43, 46, 50, 51, 52, 52, 54, 55, 56, 57, 59, 59, 61, 61, 62, 62, 68, 68, 70, 73, 75, 78, 79, 80, 81, 82, 83, 84, 87, 88, 89, 92, 96, 98]\n"
     ]
    }
   ],
   "source": [
    "print(quicksort(array))"
   ]
  }
 ],
 "metadata": {
  "kernelspec": {
   "display_name": "Python 3",
   "language": "python",
   "name": "python3"
  },
  "language_info": {
   "codemirror_mode": {
    "name": "ipython",
    "version": 3
   },
   "file_extension": ".py",
   "mimetype": "text/x-python",
   "name": "python",
   "nbconvert_exporter": "python",
   "pygments_lexer": "ipython3",
   "version": "3.5.2"
  }
 },
 "nbformat": 4,
 "nbformat_minor": 2
}
