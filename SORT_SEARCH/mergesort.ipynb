{
 "cells": [
  {
   "cell_type": "code",
   "execution_count": 2,
   "metadata": {},
   "outputs": [],
   "source": [
    "from numpy.random import *"
   ]
  },
  {
   "cell_type": "code",
   "execution_count": 3,
   "metadata": {},
   "outputs": [],
   "source": [
    "def merge_sort(arr):\n",
    "    if len(arr) <2:\n",
    "        return arr\n",
    "    mid = len(arr)//2 # divide them\n",
    "    left,right=merge_sort(arr[mid:]), merge_sort(arr[:mid]) # sort recursively\n",
    "    \n",
    "    return merge(left, right) # merge them"
   ]
  },
  {
   "cell_type": "code",
   "execution_count": 4,
   "metadata": {},
   "outputs": [],
   "source": [
    "def merge(left, right):\n",
    "    arr = []\n",
    "    i, j = 0,0\n",
    "    while i < len(left) and j < len(right):\n",
    "        if left[i] <= right[j]:\n",
    "            arr.append(left[i])\n",
    "            i+=1\n",
    "        else:\n",
    "            arr.append(right[j])\n",
    "            j+=1\n",
    "    # add leftovers if any \n",
    "    if left[i:]:\n",
    "        arr.extend(left[i:])\n",
    "    if right[j:]:\n",
    "        arr.extend(right[j:])\n",
    "\n",
    "    return arr"
   ]
  },
  {
   "cell_type": "code",
   "execution_count": 5,
   "metadata": {},
   "outputs": [
    {
     "data": {
      "text/plain": [
       "array([68, 51, 20, 53, 79, 26, 36, 13, 85, 91, 61, 36, 46, 86, 72, 55, 68,\n",
       "       95, 13, 84, 23, 36, 14, 66, 55])"
      ]
     },
     "execution_count": 5,
     "metadata": {},
     "output_type": "execute_result"
    }
   ],
   "source": [
    "array = randint(10,100,25)\n",
    "array"
   ]
  },
  {
   "cell_type": "code",
   "execution_count": 6,
   "metadata": {},
   "outputs": [
    {
     "name": "stdout",
     "output_type": "stream",
     "text": [
      "[13, 13, 14, 20, 23, 26, 36, 36, 36, 46, 51, 53, 55, 55, 61, 66, 68, 68, 72, 79, 84, 85, 86, 91, 95]\n"
     ]
    }
   ],
   "source": [
    "print(merge_sort(array))"
   ]
  }
 ],
 "metadata": {
  "kernelspec": {
   "display_name": "Python 3",
   "language": "python",
   "name": "python3"
  }
 },
 "nbformat": 4,
 "nbformat_minor": 2
}
