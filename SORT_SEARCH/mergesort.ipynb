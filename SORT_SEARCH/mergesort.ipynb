{
 "cells": [
  {
   "cell_type": "code",
   "execution_count": 2,
   "metadata": {
    "collapsed": true
   },
   "outputs": [],
   "source": [
    "from numpy.random import *"
   ]
  },
  {
   "cell_type": "code",
   "execution_count": 3,
   "metadata": {
    "collapsed": true
   },
   "outputs": [],
   "source": [
    "def merge_sort(arr):\n",
    "    if len(arr) <2:\n",
    "        return arr\n",
    "    mid = len(arr)//2 # divide them\n",
    "    left,right=merge_sort(arr[mid:]), merge_sort(arr[:mid]) # sort recursively\n",
    "    \n",
    "    return merge(left, right) # merge them"
   ]
  },
  {
   "cell_type": "code",
   "execution_count": 7,
   "metadata": {
    "collapsed": true
   },
   "outputs": [],
   "source": [
    "def merge(left, right):\n",
    "    arr = []\n",
    "    i, j = 0,0\n",
    "    while i < len(left) and j < len(right):\n",
    "        if left[i] <= right[j]:\n",
    "            arr.append(left[i])\n",
    "            i+=1\n",
    "        else:\n",
    "            arr.append(right[j])\n",
    "            j+=1\n",
    "    # add leftovers if any \n",
    "    if left[i:]:\n",
    "        arr.extend(left[i:])\n",
    "    if right[j:]:\n",
    "        arr.extend(right[j:])\n",
    "\n",
    "    return arr"
   ]
  },
  {
   "cell_type": "code",
   "execution_count": 8,
   "metadata": {},
   "outputs": [
    {
     "data": {
      "text/plain": [
       "array([44, 36, 21, 50, 93, 95, 65, 36, 76, 11, 90, 49, 41, 85, 68, 53, 16,\n",
       "       82, 43, 84, 80, 82, 87, 18, 31])"
      ]
     },
     "execution_count": 8,
     "metadata": {},
     "output_type": "execute_result"
    }
   ],
   "source": [
    "array = randint(10,100,25)\n",
    "array"
   ]
  },
  {
   "cell_type": "code",
   "execution_count": 6,
   "metadata": {},
   "outputs": [
    {
     "name": "stdout",
     "output_type": "stream",
     "text": [
      "[14, 21, 25, 26, 35, 41, 44, 47, 51, 51, 53, 54, 54, 57, 57, 62, 63, 64, 77, 77, 77, 86, 92, 98, 99]\n"
     ]
    }
   ],
   "source": [
    "print(merge_sort(array))"
   ]
  }
 ],
 "metadata": {
  "kernelspec": {
   "display_name": "Python 3",
   "language": "python",
   "name": "python3"
  },
  "language_info": {
   "codemirror_mode": {
    "name": "ipython",
    "version": 3
   },
   "file_extension": ".py",
   "mimetype": "text/x-python",
   "name": "python",
   "nbconvert_exporter": "python",
   "pygments_lexer": "ipython3",
   "version": "3.5.2"
  }
 },
 "nbformat": 4,
 "nbformat_minor": 2
}
