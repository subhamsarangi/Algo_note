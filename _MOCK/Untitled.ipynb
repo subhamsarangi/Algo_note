{
 "cells": [
  {
   "cell_type": "markdown",
   "metadata": {},
   "source": [
    "## Schroedinger Wave Equation"
   ]
  },
  {
   "cell_type": "code",
   "execution_count": 3,
   "metadata": {},
   "outputs": [],
   "source": [
    "import numpy as np"
   ]
  },
  {
   "cell_type": "code",
   "execution_count": 6,
   "metadata": {
    "collapsed": true
   },
   "outputs": [],
   "source": [
    "def D_wrap(A, dX):\n",
    "    d = A - np.roll(A, 1)\n",
    "    d = 0.5 * (d + np.roll(d, -1))\n",
    "    return d"
   ]
  },
  {
   "cell_type": "code",
   "execution_count": 7,
   "metadata": {
    "collapsed": true
   },
   "outputs": [],
   "source": [
    "#doesn't wrap over, faster\n",
    "def D_nowrap(A, dX):\n",
    "\td = A[1:] - A[:-1]\n",
    "\td = np.concatenate(([d[0]], d, [d[-1]]))\n",
    "\td = 0.5 * (d[1:] + d[:-1])\n",
    "\treturn d"
   ]
  },
  {
   "cell_type": "code",
   "execution_count": 8,
   "metadata": {
    "collapsed": true
   },
   "outputs": [],
   "source": [
    "D = D_nowrap\t#select diff function"
   ]
  },
  {
   "cell_type": "code",
   "execution_count": 11,
   "metadata": {
    "collapsed": true
   },
   "outputs": [],
   "source": [
    "N = 400\t\t#number of points\n",
    "size = 10\t#x in [-size, size]\n",
    "dX = 2.*size/N\t#x step\n",
    "dt = 0.0005\t\t#time step"
   ]
  },
  {
   "cell_type": "code",
   "execution_count": 12,
   "metadata": {
    "collapsed": true
   },
   "outputs": [],
   "source": [
    "X = np.linspace(-size, size, N)\n",
    "x0 = -5"
   ]
  },
  {
   "cell_type": "code",
   "execution_count": 13,
   "metadata": {
    "collapsed": true
   },
   "outputs": [],
   "source": [
    "A = np.exp(-4*(X-x0)*((X-x0)+1500j))\t#initial wave function\n",
    "A = np.array(A, dtype=np.complex)\n",
    "\n",
    "#V = np.zeros(N)\n",
    "V = 0.5*(np.abs(X - 2) < 0.5)\t\t#potential"
   ]
  },
  {
   "cell_type": "code",
   "execution_count": null,
   "metadata": {
    "collapsed": true
   },
   "outputs": [],
   "source": []
  }
 ],
 "metadata": {
  "kernelspec": {
   "display_name": "Python 3",
   "language": "python",
   "name": "python3"
  },
  "language_info": {
   "codemirror_mode": {
    "name": "ipython",
    "version": 3
   },
   "file_extension": ".py",
   "mimetype": "text/x-python",
   "name": "python",
   "nbconvert_exporter": "python",
   "pygments_lexer": "ipython3",
   "version": "3.5.2"
  }
 },
 "nbformat": 4,
 "nbformat_minor": 2
}
