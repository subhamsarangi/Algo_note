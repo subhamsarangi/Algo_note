{
 "cells": [
  {
   "cell_type": "markdown",
   "metadata": {},
   "source": [
    "## Hash Table using Separate Chaining method"
   ]
  },
  {
   "cell_type": "code",
   "execution_count": 4,
   "metadata": {
    "collapsed": true
   },
   "outputs": [],
   "source": [
    "from numpy.random import *"
   ]
  },
  {
   "cell_type": "code",
   "execution_count": 5,
   "metadata": {
    "collapsed": true
   },
   "outputs": [],
   "source": [
    "class HashTable(object):\n",
    "    def __init__(self, slots=10):\n",
    "        self.slots = slots\n",
    "        self.table = []\n",
    "        self.create_table()\n",
    "\n",
    "    def hash_key(self, value):\n",
    "        return hash(value)%self.slots\n",
    "\n",
    "    def create_table(self):\n",
    "        for i in range(self.slots):\n",
    "            self.table.append([])\n",
    "        print('Table was created!')\n",
    "\n",
    "    def add_item(self, value):\n",
    "        key = self.hash_key(value)\n",
    "        self.table[key].append(value)\n",
    "        print('Added',value,'to key no. ',key)\n",
    "\n",
    "    def print_table(self):\n",
    "        print(len(self.table))\n",
    "        for key in range(len(self.table)):\n",
    "            print (\"Key is: \", key,\"value is :\",self.table[key])\n",
    "\n",
    "    def find_item(self, item):\n",
    "        pos = self.hash_key(item)\n",
    "        if item in self.table[pos]:\n",
    "            print(\"Found it! It's here.\",)\n",
    "            return True\n",
    "        else:\n",
    "            print(\"Didn't find. Sorry.\")\n",
    "            return False"
   ]
  },
  {
   "cell_type": "code",
   "execution_count": 6,
   "metadata": {},
   "outputs": [
    {
     "name": "stdout",
     "output_type": "stream",
     "text": [
      "Table was created!\n",
      "10\n",
      "Key is:  0 value is : []\n",
      "Key is:  1 value is : []\n",
      "Key is:  2 value is : []\n",
      "Key is:  3 value is : []\n",
      "Key is:  4 value is : []\n",
      "Key is:  5 value is : []\n",
      "Key is:  6 value is : []\n",
      "Key is:  7 value is : []\n",
      "Key is:  8 value is : []\n",
      "Key is:  9 value is : []\n"
     ]
    }
   ],
   "source": [
    "dic = HashTable()\n",
    "dic.print_table()"
   ]
  },
  {
   "cell_type": "code",
   "execution_count": 9,
   "metadata": {},
   "outputs": [
    {
     "name": "stdout",
     "output_type": "stream",
     "text": [
      "Added 34 to key no.  4\n",
      "Added 12 to key no.  2\n",
      "Added 62 to key no.  2\n",
      "Added 19 to key no.  9\n",
      "Added 31 to key no.  1\n",
      "Added 73 to key no.  3\n",
      "Added 68 to key no.  8\n",
      "Added 35 to key no.  5\n",
      "Added 72 to key no.  2\n",
      "Added 56 to key no.  6\n",
      "Added 52 to key no.  2\n",
      "Added 79 to key no.  9\n",
      "Added 55 to key no.  5\n",
      "Added 75 to key no.  5\n",
      "Added 74 to key no.  4\n",
      "Added 73 to key no.  3\n",
      "Added 5 to key no.  5\n",
      "Added 46 to key no.  6\n",
      "Added 52 to key no.  2\n",
      "Added 63 to key no.  3\n",
      "Added 12 to key no.  2\n",
      "Added 22 to key no.  2\n",
      "Added 7 to key no.  7\n",
      "Added 54 to key no.  4\n",
      "Added 52 to key no.  2\n"
     ]
    }
   ],
   "source": [
    "for i in randint(5,80,25):\n",
    "    dic.add_item(i)"
   ]
  },
  {
   "cell_type": "code",
   "execution_count": 10,
   "metadata": {},
   "outputs": [
    {
     "name": "stdout",
     "output_type": "stream",
     "text": [
      "10\n",
      "Key is:  0 value is : [70, 20]\n",
      "Key is:  1 value is : [31, 11, 41, 21, 51, 31, 31]\n",
      "Key is:  2 value is : [52, 32, 12, 62, 72, 52, 52, 12, 22, 52]\n",
      "Key is:  3 value is : [33, 63, 63, 73, 73, 63]\n",
      "Key is:  4 value is : [64, 64, 44, 34, 34, 74, 54]\n",
      "Key is:  5 value is : [35, 65, 65, 35, 55, 75, 5]\n",
      "Key is:  6 value is : [56, 46]\n",
      "Key is:  7 value is : [27, 7]\n",
      "Key is:  8 value is : [28, 8, 58, 68]\n",
      "Key is:  9 value is : [59, 19, 79]\n"
     ]
    }
   ],
   "source": [
    "dic.print_table()"
   ]
  },
  {
   "cell_type": "code",
   "execution_count": 11,
   "metadata": {},
   "outputs": [
    {
     "name": "stdout",
     "output_type": "stream",
     "text": [
      "RETRIEVE? : 55\n",
      "Found it! It's here.\n"
     ]
    },
    {
     "data": {
      "text/plain": [
       "True"
      ]
     },
     "execution_count": 11,
     "metadata": {},
     "output_type": "execute_result"
    }
   ],
   "source": [
    "dic.find_item(float(input(\"RETRIEVE? : \")))"
   ]
  },
  {
   "cell_type": "code",
   "execution_count": 12,
   "metadata": {},
   "outputs": [
    {
     "name": "stdout",
     "output_type": "stream",
     "text": [
      "ADD? : 99\n",
      "Added 99.0 to key no.  9\n"
     ]
    }
   ],
   "source": [
    "new_item = input(\"ADD? : \")\n",
    "dic.add_item(float(new_item))"
   ]
  },
  {
   "cell_type": "code",
   "execution_count": 13,
   "metadata": {},
   "outputs": [
    {
     "name": "stdout",
     "output_type": "stream",
     "text": [
      "10\n",
      "Key is:  0 value is : [70, 20]\n",
      "Key is:  1 value is : [31, 11, 41, 21, 51, 31, 31]\n",
      "Key is:  2 value is : [52, 32, 12, 62, 72, 52, 52, 12, 22, 52]\n",
      "Key is:  3 value is : [33, 63, 63, 73, 73, 63]\n",
      "Key is:  4 value is : [64, 64, 44, 34, 34, 74, 54]\n",
      "Key is:  5 value is : [35, 65, 65, 35, 55, 75, 5]\n",
      "Key is:  6 value is : [56, 46]\n",
      "Key is:  7 value is : [27, 7]\n",
      "Key is:  8 value is : [28, 8, 58, 68]\n",
      "Key is:  9 value is : [59, 19, 79, 99.0]\n"
     ]
    }
   ],
   "source": [
    "dic.print_table()"
   ]
  },
  {
   "cell_type": "code",
   "execution_count": null,
   "metadata": {
    "collapsed": true
   },
   "outputs": [],
   "source": []
  }
 ],
 "metadata": {
  "kernelspec": {
   "display_name": "Python 3",
   "language": "python",
   "name": "python3"
  },
  "language_info": {
   "codemirror_mode": {
    "name": "ipython",
    "version": 3
   },
   "file_extension": ".py",
   "mimetype": "text/x-python",
   "name": "python",
   "nbconvert_exporter": "python",
   "pygments_lexer": "ipython3",
   "version": "3.5.2"
  }
 },
 "nbformat": 4,
 "nbformat_minor": 2
}
